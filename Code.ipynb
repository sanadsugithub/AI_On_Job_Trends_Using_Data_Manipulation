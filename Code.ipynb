{
  "nbformat": 4,
  "nbformat_minor": 0,
  "metadata": {
    "colab": {
      "provenance": [],
      "toc_visible": true
    },
    "kernelspec": {
      "name": "python3",
      "display_name": "Python 3"
    },
    "language_info": {
      "name": "python"
    }
  },
  "cells": [
    {
      "cell_type": "code",
      "execution_count": 7,
      "metadata": {
        "colab": {
          "base_uri": "https://localhost:8080/"
        },
        "id": "p5lHa0OpPTnb",
        "outputId": "5b87fde4-a892-4704-8313-4181cd952cbf"
      },
      "outputs": [
        {
          "output_type": "stream",
          "name": "stdout",
          "text": [
            "                     Job titiles AI Impact  Tasks  AI models  \\\n",
            "0         Communications Manager       98%    365       2546   \n",
            "1                 Data Collector       95%    299       2148   \n",
            "2                     Data Entry       95%    325       2278   \n",
            "3                     Mail Clerk       95%    193       1366   \n",
            "4             Compliance Officer       92%    194       1369   \n",
            "5  Chief Executive Officer (CEO)       91%    153       1135   \n",
            "6                      Therapist       90%    114        983   \n",
            "7         Chief Strategy Officer       90%    184       1284   \n",
            "8                          Admin       90%    253       2014   \n",
            "9                  General Clerk       90%    242       1903   \n",
            "\n",
            "   AI_Workload_Ratio                     Domain  \n",
            "0           0.143362         Communication & PR  \n",
            "1           0.139199                  Data & IT  \n",
            "2           0.142669  Administrative & Clerical  \n",
            "3           0.141288      Leadership & Strategy  \n",
            "4           0.141709       Medical & Healthcare  \n",
            "5           0.134802   Supply Chain & Logistics  \n",
            "6           0.115972            Law Enforcement  \n",
            "7           0.143302               Construction  \n",
            "8           0.125621          Sales & Marketing  \n",
            "9           0.127168                Hospitality  \n"
          ]
        }
      ],
      "source": [
        "import pandas as pd\n",
        "\n",
        "data = pd.read_csv('My_Data.csv')\n",
        "print(data.head(10))"
      ]
    },
    {
      "cell_type": "code",
      "source": [
        "\n",
        "\n",
        "# Convert 'AI Impact' column to float after stripping the '%' symbol\n",
        "data['AI Impact'] = data['AI Impact'].str.rstrip('%').astype(float)"
      ],
      "metadata": {
        "id": "SvIqSl07PV0K"
      },
      "execution_count": 9,
      "outputs": []
    },
    {
      "cell_type": "code",
      "source": [
        "mean_impact = data.groupby('Job titiles')['AI Impact'].mean().sort_values()\n",
        "\n",
        "# Print job titles with highest and lowest AI impact\n",
        "print(\"Job Title with the highest AI impact:\")\n",
        "print(mean_impact.idxmax())"
      ],
      "metadata": {
        "colab": {
          "base_uri": "https://localhost:8080/"
        },
        "id": "1UgnACohK1yK",
        "outputId": "47f2a12e-ba92-4b39-b188-9fd0d2fcf8d2"
      },
      "execution_count": 14,
      "outputs": [
        {
          "output_type": "stream",
          "name": "stdout",
          "text": [
            "Job Title with the highest AI impact:\n",
            "Communications Manager\n"
          ]
        }
      ]
    },
    {
      "cell_type": "code",
      "source": [
        "print(\"Job Title with the lowest AI impact:\")\n",
        "print(mean_impact.idxmin())"
      ],
      "metadata": {
        "colab": {
          "base_uri": "https://localhost:8080/"
        },
        "id": "hr9oZVw2LluP",
        "outputId": "7aab7ed9-c414-4bb4-edac-b1a0698ea2b0"
      },
      "execution_count": 15,
      "outputs": [
        {
          "output_type": "stream",
          "name": "stdout",
          "text": [
            "Job Title with the lowest AI impact:\n",
            "Zoologist\n"
          ]
        }
      ]
    },
    {
      "cell_type": "code",
      "source": [
        "# Extract unique domains\n",
        "unique_domains = data['Domain'].unique()\n",
        "\n",
        "# Print unique domains\n",
        "print(\"Unique Domains:\")\n",
        "for domain in unique_domains:\n",
        "    print(domain)"
      ],
      "metadata": {
        "colab": {
          "base_uri": "https://localhost:8080/"
        },
        "id": "rLWihudMLq8y",
        "outputId": "d06238e2-94d6-4b15-ce83-7977ca813ab3"
      },
      "execution_count": 16,
      "outputs": [
        {
          "output_type": "stream",
          "name": "stdout",
          "text": [
            "Unique Domains:\n",
            "Communication & PR\n",
            "Data & IT\n",
            "Administrative & Clerical\n",
            "Leadership & Strategy\n",
            "Medical & Healthcare\n",
            "Supply Chain & Logistics\n",
            "Law Enforcement\n",
            "Construction\n",
            "Sales & Marketing\n",
            "Hospitality\n"
          ]
        }
      ]
    },
    {
      "cell_type": "code",
      "source": [
        "data_it_jobs = data[data['Domain'].isin(['Data & IT'])]\n"
      ],
      "metadata": {
        "id": "XSmrext1L1WH"
      },
      "execution_count": 18,
      "outputs": []
    },
    {
      "cell_type": "code",
      "source": [
        "mean_impact_data_it = data_it_jobs.groupby('Job titiles')['AI Impact'].mean()\n"
      ],
      "metadata": {
        "id": "uguJ7l02MDo_"
      },
      "execution_count": 20,
      "outputs": []
    },
    {
      "cell_type": "code",
      "source": [
        "least_impact_job_data_it = mean_impact_data_it.idxmin()\n",
        "print(\"Job Title with the least AI impact within the Data & IT domains:\", least_impact_job_data_it)"
      ],
      "metadata": {
        "colab": {
          "base_uri": "https://localhost:8080/"
        },
        "id": "g1jiZyfFMKiV",
        "outputId": "398fb95e-9d38-4723-f6b5-c4cecf8d4510"
      },
      "execution_count": 21,
      "outputs": [
        {
          "output_type": "stream",
          "name": "stdout",
          "text": [
            "Job Title with the least AI impact within the Data & IT domains: Admissions Coordinator\n"
          ]
        }
      ]
    },
    {
      "cell_type": "code",
      "source": [
        "threshold = 0.8\n",
        "high_workload_jobs = data[data['AI_Workload_Ratio'] > threshold]\n",
        "print(\"High Workload Jobs:\")\n",
        "print(high_workload_jobs)"
      ],
      "metadata": {
        "colab": {
          "base_uri": "https://localhost:8080/"
        },
        "id": "4qW3kvIHMIWh",
        "outputId": "963ef9e5-8cc9-4029-b54b-68632e77c7fa"
      },
      "execution_count": 22,
      "outputs": [
        {
          "output_type": "stream",
          "name": "stdout",
          "text": [
            "High Workload Jobs:\n",
            "               Job titiles  AI Impact  Tasks  AI models  AI_Workload_Ratio  \\\n",
            "3034         Charter Pilot       20.0      2          0                inf   \n",
            "3035      Commercial Pilot       20.0      2          0                inf   \n",
            "3036             Conductor       20.0      2          0                inf   \n",
            "3037       Corporate Pilot       20.0      2          0                inf   \n",
            "3058  After School Teacher       20.0      1          1           1.000000   \n",
            "3184           Dog Groomer       20.0      4          0                inf   \n",
            "3185           Dog Trainer       20.0      5          6           0.833333   \n",
            "3211             Constable       20.0      3          0                inf   \n",
            "3322        Crossing Guard       20.0      2          0                inf   \n",
            "\n",
            "                         Domain  \n",
            "3034       Medical & Healthcare  \n",
            "3035   Supply Chain & Logistics  \n",
            "3036            Law Enforcement  \n",
            "3037               Construction  \n",
            "3058          Sales & Marketing  \n",
            "3184       Medical & Healthcare  \n",
            "3185   Supply Chain & Logistics  \n",
            "3211                  Data & IT  \n",
            "3322  Administrative & Clerical  \n"
          ]
        }
      ]
    },
    {
      "cell_type": "code",
      "source": [
        "top_ai_models = data['AI models'].value_counts().head(10)\n",
        "print(\"\\nTop AI Models Used:\")\n",
        "print(top_ai_models)"
      ],
      "metadata": {
        "colab": {
          "base_uri": "https://localhost:8080/"
        },
        "id": "TMyoxP4pMdBV",
        "outputId": "f020abdd-b04c-4d54-d281-d9ee0c8dc135"
      },
      "execution_count": 23,
      "outputs": [
        {
          "output_type": "stream",
          "name": "stdout",
          "text": [
            "\n",
            "Top AI Models Used:\n",
            "AI models\n",
            "46      31\n",
            "60      15\n",
            "57      11\n",
            "1049     9\n",
            "20       9\n",
            "49       8\n",
            "879      8\n",
            "1446     7\n",
            "0        7\n",
            "1427     7\n",
            "Name: count, dtype: int64\n"
          ]
        }
      ]
    },
    {
      "cell_type": "code",
      "source": [
        "tasks_distribution = data.groupby('Job titiles')['Tasks'].apply(lambda x: ','.join(map(str, x))).reset_index()\n",
        "print(tasks_distribution)"
      ],
      "metadata": {
        "colab": {
          "base_uri": "https://localhost:8080/"
        },
        "id": "q_g-68luMi68",
        "outputId": "b84aa59c-4c2b-4000-e176-ad80bec63e04"
      },
      "execution_count": 25,
      "outputs": [
        {
          "output_type": "stream",
          "name": "stdout",
          "text": [
            "                 Job titiles Tasks\n",
            "0             .Net Developer   248\n",
            "1                3D Animator   132\n",
            "2                  3D Artist   156\n",
            "3                3D Designer   272\n",
            "4                 3D Modeler   204\n",
            "...                      ...   ...\n",
            "4701  Youth Program Director   771\n",
            "4702        Youth Specialist   229\n",
            "4703            Youth Worker   158\n",
            "4704          Zamboni Driver   172\n",
            "4705               Zoologist   307\n",
            "\n",
            "[4706 rows x 2 columns]\n"
          ]
        }
      ]
    }
  ]
}